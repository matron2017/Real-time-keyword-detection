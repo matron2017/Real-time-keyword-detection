{
 "cells": [
  {
   "cell_type": "code",
   "execution_count": 1,
   "id": "b0c96513",
   "metadata": {},
   "outputs": [
    {
     "name": "stderr",
     "output_type": "stream",
     "text": [
      "2022-11-14 20:04:42.388232: I tensorflow/core/platform/cpu_feature_guard.cc:193] This TensorFlow binary is optimized with oneAPI Deep Neural Network Library (oneDNN) to use the following CPU instructions in performance-critical operations:  AVX2 AVX512F AVX512_VNNI FMA\n",
      "To enable them in other operations, rebuild TensorFlow with the appropriate compiler flags.\n",
      "2022-11-14 20:04:42.495357: I tensorflow/core/util/util.cc:169] oneDNN custom operations are on. You may see slightly different numerical results due to floating-point round-off errors from different computation orders. To turn them off, set the environment variable `TF_ENABLE_ONEDNN_OPTS=0`.\n",
      "2022-11-14 20:04:42.520309: E tensorflow/stream_executor/cuda/cuda_blas.cc:2981] Unable to register cuBLAS factory: Attempting to register factory for plugin cuBLAS when one has already been registered\n",
      "2022-11-14 20:04:42.969177: W tensorflow/stream_executor/platform/default/dso_loader.cc:64] Could not load dynamic library 'libnvinfer.so.7'; dlerror: libnvinfer.so.7: cannot open shared object file: No such file or directory; LD_LIBRARY_PATH: :/home/avatar/miniconda3/envs/avatarenv/lib/\n",
      "2022-11-14 20:04:42.969249: W tensorflow/stream_executor/platform/default/dso_loader.cc:64] Could not load dynamic library 'libnvinfer_plugin.so.7'; dlerror: libnvinfer_plugin.so.7: cannot open shared object file: No such file or directory; LD_LIBRARY_PATH: :/home/avatar/miniconda3/envs/avatarenv/lib/\n",
      "2022-11-14 20:04:42.969254: W tensorflow/compiler/tf2tensorrt/utils/py_utils.cc:38] TF-TRT Warning: Cannot dlopen some TensorRT libraries. If you would like to use Nvidia GPU with TensorRT, please make sure the missing libraries mentioned above are installed properly.\n"
     ]
    }
   ],
   "source": [
    "import os\n",
    "import pathlib\n",
    "import numpy as np\n",
    "import tensorflow as tf\n",
    "from tensorflow.keras import layers\n",
    "from tensorflow.keras import models\n",
    "from scipy.io.wavfile import read\n",
    "import wave\n",
    "from scipy.io.wavfile import read\n",
    "from sklearn.model_selection import train_test_split\n",
    "import librosa\n",
    "from sklearn.model_selection import train_test_split\n",
    "from tensorflow.keras.utils import to_categorical\n",
    "from tensorflow.keras import Sequential\n",
    "import sounddevice as sd\n",
    "from scipy.io.wavfile import write\n",
    "import matplotlib.pyplot as plt\n",
    "from keras.models import Model\n",
    "from keras.layers import  Conv1D,  GRU, Dropout, Input, Dense, Conv2D, Reshape, MaxPooling2D\n",
    "import random\n",
    "from sklearn.metrics import confusion_matrix\n",
    "from sklearn.metrics import roc_curve\n",
    "from scipy import linalg\n",
    "random.seed(111)\n",
    "fs = 16000\n",
    "Keyword_path = \"/home/avatar/avatar_project/keyword_sound\"\n",
    "Noise_path =  \"/home/avatar/avatar_project/background_sound\"\n",
    "\n",
    "Val_path_pos = \"/home/avatar/avatar_project/validation_data/positives\"\n",
    "Val_path_neg = \"/home/avatar/avatar_project/validation_data/negatives\""
   ]
  },
  {
   "cell_type": "code",
   "execution_count": 2,
   "id": "8b89228a",
   "metadata": {},
   "outputs": [],
   "source": [
    "\n",
    "#Data augmentation method. New data samples are made by masking parts of mel spectrograms.\n",
    "def spec_augment(spec: np.ndarray, num_mask=2, \n",
    "                 freq_masking_max_percentage=0.10, time_masking_max_percentage=0.2):\n",
    "\n",
    "    spec = spec.copy()\n",
    "    for i in range(num_mask):\n",
    "        all_frames_num, all_freqs_num = spec.shape\n",
    "        freq_percentage = random.uniform(0.0, freq_masking_max_percentage)\n",
    "        \n",
    "        num_freqs_to_mask = int(freq_percentage * all_freqs_num)\n",
    "        f0 = np.random.uniform(low=0.0, high=all_freqs_num - num_freqs_to_mask)\n",
    "        f0 = int(f0)\n",
    "        spec[:, f0:f0 + num_freqs_to_mask] = 0\n",
    "\n",
    "        time_percentage = random.uniform(0.0, time_masking_max_percentage)\n",
    "        \n",
    "        num_frames_to_mask = int(time_percentage * all_frames_num)\n",
    "        t0 = np.random.uniform(low=0.0, high=all_frames_num - num_frames_to_mask)\n",
    "        t0 = int(t0)\n",
    "        spec[t0:t0 + num_frames_to_mask, :] = 0\n",
    "    \n",
    "    return spec\n"
   ]
  },
  {
   "cell_type": "code",
   "execution_count": 3,
   "id": "722f6d52",
   "metadata": {},
   "outputs": [],
   "source": [
    "keyword_data = []\n",
    "noise_data = []\n",
    "test_pos = []\n",
    "test_neg = []\n",
    "val_pos = []\n",
    "val_neg = []\n",
    "sample_rate = 16000\n",
    "keyword_data_aug = []\n",
    "noise_data_aug = []\n",
    "keyword_audio = []\n",
    "noise_audio = []\n",
    "counter = 0\n",
    "for keyword in os.listdir(Keyword_path):\n",
    "    audio, fs = librosa.load(os.path.join(Keyword_path, keyword), sr=16000)\n",
    "    keyword_audio.append(audio)\n",
    "    \n",
    "    mel_spec = librosa.feature.melspectrogram(y=audio, sr=sample_rate, n_fft=512, hop_length=160, n_mels=48, fmax=8000)\n",
    "    mel_spec_db = librosa.power_to_db(mel_spec, ref=np.max).T\n",
    "    mel_spec_db_norm = (mel_spec_db - np.min(mel_spec_db)) / (np.max(mel_spec_db) - np.min(mel_spec_db))\n",
    "    keyword_data.append(mel_spec_db_norm) \n",
    "    \n",
    "    mel_spec_db = librosa.power_to_db(spec_augment(mel_spec), ref=np.max).T\n",
    "    mel_spec_db_norm = (mel_spec_db - np.min(mel_spec_db)) / (np.max(mel_spec_db) - np.min(mel_spec_db))\n",
    "    keyword_data_aug.append(mel_spec_db_norm) \n",
    "\n",
    "\n",
    "    \n",
    "for keyword in os.listdir(Val_path_pos):\n",
    "    audio, fs = librosa.load(os.path.join(Val_path_pos, keyword), sr=16000)\n",
    "    \n",
    "    mel_spec = librosa.feature.melspectrogram(y=audio, sr=sample_rate, n_fft=512, hop_length=160, n_mels=48, fmax=8000)\n",
    "    mel_spec_db = librosa.power_to_db(mel_spec, ref=np.max).T\n",
    "    mel_spec_db_norm = (mel_spec_db - np.min(mel_spec_db)) / (np.max(mel_spec_db) - np.min(mel_spec_db))\n",
    "    val_pos.append(mel_spec_db_norm) \n",
    "    \n",
    "    \n",
    "    \n",
    "\n",
    "for noise in os.listdir(Noise_path):\n",
    "    audio, fs = librosa.load(os.path.join(Noise_path, noise), sr=16000)\n",
    "    noise_audio.append(audio)\n",
    "    \n",
    "    mel_spec = librosa.feature.melspectrogram(y=audio, sr=sample_rate, n_fft=512, hop_length=160, n_mels=48, fmax=8000)\n",
    "    mel_spec_db = librosa.power_to_db(mel_spec, ref=np.max).T\n",
    "    mel_spec_db_norm = (mel_spec_db - np.min(mel_spec_db)) / (np.max(mel_spec_db) - np.min(mel_spec_db))\n",
    "    noise_data.append(mel_spec_db_norm)\n",
    "    \n",
    "    mel_spec_db = librosa.power_to_db(spec_augment(mel_spec), ref=np.max).T\n",
    "    mel_spec_db_norm = (mel_spec_db - np.min(mel_spec_db)) / (np.max(mel_spec_db) - np.min(mel_spec_db))\n",
    "    noise_data_aug.append(mel_spec_db_norm) \n",
    " \n",
    "\n",
    "\n",
    "    \n",
    "for noise in os.listdir(Val_path_neg):\n",
    "    audio, fs = librosa.load(os.path.join(Val_path_neg, noise), sr=16000)\n",
    "    \n",
    "    mel_spec = librosa.feature.melspectrogram(y=audio, sr=sample_rate, n_fft=512, hop_length=160, n_mels=48, fmax=8000)\n",
    "    mel_spec_db = librosa.power_to_db(mel_spec, ref=np.max).T\n",
    "    mel_spec_db_norm = (mel_spec_db - np.min(mel_spec_db)) / (np.max(mel_spec_db) - np.min(mel_spec_db))\n",
    "    val_neg.append(mel_spec_db_norm) "
   ]
  },
  {
   "cell_type": "code",
   "execution_count": 4,
   "id": "260f0ac0",
   "metadata": {},
   "outputs": [],
   "source": [
    "\n",
    "#Another augmentation method, where keyword audio is added on top of another keyword audio, and\n",
    "# same thing is done with noise audio. Audios amplitudes are \n",
    "def time_shift(audio): \n",
    "    return np.roll(audio,int(sample_rate/(random.randint(3,10)))) #randint means that roll is done with freqs 1600 and 3200\n",
    "\n",
    "#3 ja 6\n",
    "\n",
    "for audio_first in keyword_audio[::8]:\n",
    "    for audio_second in keyword_audio[::8]: \n",
    "        audio_shifted = np.add(audio_first*random.uniform(0.8, 1), time_shift(audio_second)*random.uniform(0.4, 0.75))\n",
    "        \n",
    "        mel_spec = librosa.feature.melspectrogram(y=audio_shifted, sr=sample_rate, n_fft=512, hop_length=160, n_mels=48, fmax=8000)\n",
    "        mel_spec_db = librosa.power_to_db(mel_spec, ref=np.max).T\n",
    "        mel_spec_db_norm = (mel_spec_db - np.min(mel_spec_db)) / (np.max(mel_spec_db) - np.min(mel_spec_db))\n",
    "        keyword_data.append(mel_spec_db_norm) \n",
    "        \n",
    "for audio_first in noise_audio[::8]:\n",
    "    for audio_second in noise_audio[::8]: \n",
    "        audio_shifted = np.add(audio_first*random.uniform(0.8, 1), time_shift(audio_second)*random.uniform(0.4, 0.75))\n",
    "        \n",
    "        mel_spec = librosa.feature.melspectrogram(y=audio_shifted, sr=sample_rate, n_fft=512, hop_length=160, n_mels=48, fmax=8000)\n",
    "        mel_spec_db = librosa.power_to_db(mel_spec, ref=np.max).T\n",
    "        mel_spec_db_norm = (mel_spec_db - np.min(mel_spec_db)) / (np.max(mel_spec_db) - np.min(mel_spec_db))\n",
    "        noise_data.append(mel_spec_db_norm)\n",
    "        \n",
    "\n",
    "keyword_data = keyword_data + keyword_data_aug\n",
    "noise_data = noise_data + noise_data_aug"
   ]
  },
  {
   "cell_type": "code",
   "execution_count": null,
   "id": "883eae1c",
   "metadata": {},
   "outputs": [],
   "source": [
    "import librosa.display\n",
    "fig, ax = plt.subplots()\n",
    "x = [\"\",\"0\", \"1\", \"2\", \"3\"]\n",
    "\n",
    "img = librosa.display.specshow(keyword_data[6], x_axis='time',\n",
    "y_axis='mel', sr=16000, fmax=8000, ax=ax)\n",
    "\n",
    "fig.colorbar(img, ax=ax, format='%+2.0f dB')\n",
    "ax.set_xticklabels(x)\n",
    "ax.set(title='Augmented Mel-frequency Spectrogram')\n",
    "plt.savefig('augmented_mel_spec.png')"
   ]
  },
  {
   "cell_type": "code",
   "execution_count": 6,
   "id": "216a13e9",
   "metadata": {},
   "outputs": [
    {
     "name": "stdout",
     "output_type": "stream",
     "text": [
      "(4421, 301, 48)\n",
      "(4421, 301, 48)\n",
      "(190, 301, 48)\n",
      "(190, 301, 48)\n"
     ]
    }
   ],
   "source": [
    "#Validation and training data split\n",
    "print(np.shape(keyword_data))\n",
    "print(np.shape(noise_data))\n",
    "print(np.shape(val_pos))\n",
    "print(np.shape(val_neg))\n",
    "\n",
    "keyword_data = np.squeeze(keyword_data)\n",
    "noise_data = np.squeeze(noise_data)\n",
    "val_pos = np.squeeze(val_pos)\n",
    "val_neg = np.squeeze(val_neg)\n",
    "\n",
    "keyword_labels = np.ones(keyword_data.shape[0])\n",
    "val_pos_labels = np.ones(val_pos.shape[0])\n",
    "\n",
    "noise_labels = 0*np.ones(noise_data.shape[0])\n",
    "val_neg_labels = 0*np.ones(val_neg.shape[0])\n",
    "\n",
    "X_train = np.concatenate((keyword_data, noise_data), axis=0)\n",
    "y_train  = np.concatenate((keyword_labels, noise_labels), axis=0)\n",
    "\n",
    "X_val = np.concatenate((val_pos, val_neg), axis=0)\n",
    "y_val = np.concatenate((val_pos_labels, val_neg_labels), axis=0)\n",
    "\n",
    "y_train = tf.keras.utils.to_categorical(y_train, 2)\n",
    "y_val = tf.keras.utils.to_categorical(y_val, 2)"
   ]
  },
  {
   "cell_type": "code",
   "execution_count": 7,
   "id": "0df09711",
   "metadata": {},
   "outputs": [
    {
     "name": "stdout",
     "output_type": "stream",
     "text": [
      "Model: \"sequential\"\n",
      "_________________________________________________________________\n",
      " Layer (type)                Output Shape              Param #   \n",
      "=================================================================\n"
     ]
    },
    {
     "name": "stderr",
     "output_type": "stream",
     "text": [
      "2022-11-14 20:06:07.587795: I tensorflow/core/platform/cpu_feature_guard.cc:193] This TensorFlow binary is optimized with oneAPI Deep Neural Network Library (oneDNN) to use the following CPU instructions in performance-critical operations:  AVX2 AVX512F AVX512_VNNI FMA\n",
      "To enable them in other operations, rebuild TensorFlow with the appropriate compiler flags.\n",
      "2022-11-14 20:06:07.941196: I tensorflow/core/common_runtime/gpu/gpu_device.cc:1616] Created device /job:localhost/replica:0/task:0/device:GPU:0 with 9791 MB memory:  -> device: 0, name: NVIDIA TITAN V, pci bus id: 0000:65:00.0, compute capability: 7.0\n"
     ]
    },
    {
     "name": "stdout",
     "output_type": "stream",
     "text": [
      " layer1 (Conv1D)             (None, 301, 48)           6960      \n",
      "                                                                 \n",
      " dropout (Dropout)           (None, 301, 48)           0         \n",
      "                                                                 \n",
      " layer2 (Conv1D)             (None, 301, 48)           6960      \n",
      "                                                                 \n",
      " dropout_1 (Dropout)         (None, 301, 48)           0         \n",
      "                                                                 \n",
      " RNN_1 (GRU)                 (None, 48)                14112     \n",
      "                                                                 \n",
      " dense_a (Dense)             (None, 2)                 98        \n",
      "                                                                 \n",
      "=================================================================\n",
      "Total params: 28,130\n",
      "Trainable params: 28,130\n",
      "Non-trainable params: 0\n",
      "_________________________________________________________________\n"
     ]
    }
   ],
   "source": [
    "from keras.backend import manual_variable_initialization \n",
    "manual_variable_initialization(True)\n",
    "\n",
    "num_units = 48\n",
    "dropout_ratio = 0.3\n",
    "#ei ainakaa 0.2, jos 0.3 ei toimi niin viel 0.1\n",
    "checkpoint_filepath = '/home/avatar/avatar_project/keyword_model_1D_CRNN'\n",
    "checkpoint_dir = os.path.dirname(checkpoint_filepath)\n",
    "\n",
    "my_callbacks = [tf.keras.callbacks.EarlyStopping(monitor='val_accuracy', patience=50, mode='max'),\n",
    "                tf.keras.callbacks.ModelCheckpoint(filepath=checkpoint_filepath, save_weights_only=False, \n",
    "                monitor='val_accuracy', mode='max', save_best_only=True),\n",
    "]\n",
    "\n",
    "model = Sequential([\n",
    "    Input(shape=(keyword_data.shape[1], keyword_data.shape[2])),\n",
    "    Conv1D(num_units,3,padding=\"same\",activation='relu',name='layer1'),\n",
    "    Dropout(dropout_ratio),\n",
    "    Conv1D(num_units,3,padding=\"same\",activation='relu',name='layer2'),\n",
    "    Dropout(dropout_ratio),\n",
    "    GRU(num_units,name='RNN_1',return_sequences=False),\n",
    "    Dense(2, activation='softmax', name='dense_a'),\n",
    "])\n",
    "\n",
    "model.compile(loss='BinaryCrossentropy', optimizer=tf.keras.optimizers.Adam(learning_rate=0.0001), metrics=['accuracy'])\n",
    "model.summary()"
   ]
  },
  {
   "cell_type": "code",
   "execution_count": null,
   "id": "d2c0d2a3",
   "metadata": {},
   "outputs": [
    {
     "name": "stdout",
     "output_type": "stream",
     "text": [
      "Epoch 1/1000\n"
     ]
    },
    {
     "name": "stderr",
     "output_type": "stream",
     "text": [
      "2022-11-14 20:06:10.221382: I tensorflow/stream_executor/cuda/cuda_dnn.cc:384] Loaded cuDNN version 8201\n",
      "2022-11-14 20:06:10.503102: I tensorflow/core/platform/default/subprocess.cc:304] Start cannot spawn child process: No such file or directory\n",
      "2022-11-14 20:06:10.504200: I tensorflow/core/platform/default/subprocess.cc:304] Start cannot spawn child process: No such file or directory\n",
      "2022-11-14 20:06:10.504212: W tensorflow/stream_executor/gpu/asm_compiler.cc:80] Couldn't get ptxas version string: INTERNAL: Couldn't invoke ptxas --version\n",
      "2022-11-14 20:06:10.505168: I tensorflow/core/platform/default/subprocess.cc:304] Start cannot spawn child process: No such file or directory\n",
      "2022-11-14 20:06:10.505209: W tensorflow/stream_executor/gpu/redzone_allocator.cc:314] INTERNAL: Failed to launch ptxas\n",
      "Relying on driver to perform ptx compilation. \n",
      "Modify $PATH to customize ptxas location.\n",
      "This message will be only logged once.\n"
     ]
    },
    {
     "name": "stdout",
     "output_type": "stream",
     "text": [
      "277/277 [==============================] - ETA: 0s - loss: 0.6540 - accuracy: 0.6192"
     ]
    },
    {
     "name": "stderr",
     "output_type": "stream",
     "text": [
      "WARNING:absl:Found untraced functions such as _jit_compiled_convolution_op, _jit_compiled_convolution_op, gru_cell_layer_call_fn, gru_cell_layer_call_and_return_conditional_losses while saving (showing 4 of 4). These functions will not be directly callable after loading.\n"
     ]
    },
    {
     "name": "stdout",
     "output_type": "stream",
     "text": [
      "INFO:tensorflow:Assets written to: /home/avatar/avatar_project/keyword_model_1D_CRNN/assets\n"
     ]
    },
    {
     "name": "stderr",
     "output_type": "stream",
     "text": [
      "INFO:tensorflow:Assets written to: /home/avatar/avatar_project/keyword_model_1D_CRNN/assets\n"
     ]
    },
    {
     "name": "stdout",
     "output_type": "stream",
     "text": [
      "277/277 [==============================] - 11s 32ms/step - loss: 0.6540 - accuracy: 0.6192 - val_loss: 0.5900 - val_accuracy: 0.7158\n",
      "Epoch 2/1000\n",
      "277/277 [==============================] - 6s 22ms/step - loss: 0.6142 - accuracy: 0.6624 - val_loss: 0.5922 - val_accuracy: 0.7053\n",
      "Epoch 3/1000\n",
      "277/277 [==============================] - 6s 22ms/step - loss: 0.5978 - accuracy: 0.6817 - val_loss: 0.6280 - val_accuracy: 0.6605\n",
      "Epoch 4/1000\n",
      "277/277 [==============================] - 6s 22ms/step - loss: 0.5770 - accuracy: 0.7048 - val_loss: 0.6281 - val_accuracy: 0.6342\n",
      "Epoch 5/1000\n",
      "277/277 [==============================] - 6s 22ms/step - loss: 0.5334 - accuracy: 0.7498 - val_loss: 0.7306 - val_accuracy: 0.5553\n",
      "Epoch 6/1000\n",
      "277/277 [==============================] - 6s 22ms/step - loss: 0.5039 - accuracy: 0.7679 - val_loss: 0.7550 - val_accuracy: 0.5658\n",
      "Epoch 7/1000\n",
      "277/277 [==============================] - 6s 22ms/step - loss: 0.4627 - accuracy: 0.7947 - val_loss: 0.7066 - val_accuracy: 0.6316\n",
      "Epoch 8/1000\n",
      "277/277 [==============================] - 6s 22ms/step - loss: 0.4306 - accuracy: 0.8155 - val_loss: 0.6274 - val_accuracy: 0.6553\n",
      "Epoch 9/1000\n",
      "277/277 [==============================] - 6s 22ms/step - loss: 0.4056 - accuracy: 0.8297 - val_loss: 0.6852 - val_accuracy: 0.6500\n",
      "Epoch 10/1000\n",
      "277/277 [==============================] - 6s 22ms/step - loss: 0.3579 - accuracy: 0.8549 - val_loss: 0.6906 - val_accuracy: 0.6868\n",
      "Epoch 11/1000\n",
      "277/277 [==============================] - 6s 22ms/step - loss: 0.3865 - accuracy: 0.8324 - val_loss: 0.6372 - val_accuracy: 0.7158\n",
      "Epoch 12/1000\n",
      "277/277 [==============================] - 6s 22ms/step - loss: 0.3546 - accuracy: 0.8632 - val_loss: 0.7622 - val_accuracy: 0.6079\n",
      "Epoch 13/1000\n",
      "277/277 [==============================] - 6s 22ms/step - loss: 0.2947 - accuracy: 0.8911 - val_loss: 0.6848 - val_accuracy: 0.6868\n",
      "Epoch 14/1000\n",
      "276/277 [============================>.] - ETA: 0s - loss: 0.2723 - accuracy: 0.9090"
     ]
    },
    {
     "name": "stderr",
     "output_type": "stream",
     "text": [
      "WARNING:absl:Found untraced functions such as _jit_compiled_convolution_op, _jit_compiled_convolution_op, gru_cell_layer_call_fn, gru_cell_layer_call_and_return_conditional_losses while saving (showing 4 of 4). These functions will not be directly callable after loading.\n"
     ]
    },
    {
     "name": "stdout",
     "output_type": "stream",
     "text": [
      "INFO:tensorflow:Assets written to: /home/avatar/avatar_project/keyword_model_1D_CRNN/assets\n"
     ]
    },
    {
     "name": "stderr",
     "output_type": "stream",
     "text": [
      "INFO:tensorflow:Assets written to: /home/avatar/avatar_project/keyword_model_1D_CRNN/assets\n"
     ]
    },
    {
     "name": "stdout",
     "output_type": "stream",
     "text": [
      "277/277 [==============================] - 9s 31ms/step - loss: 0.2721 - accuracy: 0.9091 - val_loss: 0.5892 - val_accuracy: 0.7368\n",
      "Epoch 15/1000\n",
      "277/277 [==============================] - 6s 22ms/step - loss: 0.2556 - accuracy: 0.9156 - val_loss: 0.6213 - val_accuracy: 0.7158\n",
      "Epoch 16/1000\n",
      "277/277 [==============================] - 6s 22ms/step - loss: 0.2356 - accuracy: 0.9246 - val_loss: 0.6506 - val_accuracy: 0.6947\n",
      "Epoch 17/1000\n",
      "277/277 [==============================] - ETA: 0s - loss: 0.2217 - accuracy: 0.9314"
     ]
    },
    {
     "name": "stderr",
     "output_type": "stream",
     "text": [
      "WARNING:absl:Found untraced functions such as _jit_compiled_convolution_op, _jit_compiled_convolution_op, gru_cell_layer_call_fn, gru_cell_layer_call_and_return_conditional_losses while saving (showing 4 of 4). These functions will not be directly callable after loading.\n"
     ]
    },
    {
     "name": "stdout",
     "output_type": "stream",
     "text": [
      "INFO:tensorflow:Assets written to: /home/avatar/avatar_project/keyword_model_1D_CRNN/assets\n"
     ]
    },
    {
     "name": "stderr",
     "output_type": "stream",
     "text": [
      "INFO:tensorflow:Assets written to: /home/avatar/avatar_project/keyword_model_1D_CRNN/assets\n"
     ]
    },
    {
     "name": "stdout",
     "output_type": "stream",
     "text": [
      "277/277 [==============================] - 8s 30ms/step - loss: 0.2217 - accuracy: 0.9314 - val_loss: 0.6124 - val_accuracy: 0.7447\n",
      "Epoch 18/1000\n",
      "277/277 [==============================] - 6s 22ms/step - loss: 0.2314 - accuracy: 0.9232 - val_loss: 0.6976 - val_accuracy: 0.7263\n",
      "Epoch 19/1000\n",
      "277/277 [==============================] - 6s 22ms/step - loss: 0.2044 - accuracy: 0.9366 - val_loss: 0.7621 - val_accuracy: 0.7132\n",
      "Epoch 20/1000\n",
      "277/277 [==============================] - 6s 22ms/step - loss: 0.1910 - accuracy: 0.9411 - val_loss: 0.7121 - val_accuracy: 0.7316\n",
      "Epoch 21/1000\n",
      "277/277 [==============================] - 6s 22ms/step - loss: 0.1887 - accuracy: 0.9402 - val_loss: 0.7493 - val_accuracy: 0.6974\n",
      "Epoch 22/1000\n",
      "277/277 [==============================] - 6s 23ms/step - loss: 0.1833 - accuracy: 0.9413 - val_loss: 0.7821 - val_accuracy: 0.7105\n",
      "Epoch 23/1000\n",
      "277/277 [==============================] - 6s 22ms/step - loss: 0.1711 - accuracy: 0.9449 - val_loss: 0.7072 - val_accuracy: 0.7447\n",
      "Epoch 24/1000\n",
      "277/277 [==============================] - 6s 22ms/step - loss: 0.1679 - accuracy: 0.9458 - val_loss: 0.8407 - val_accuracy: 0.7211\n",
      "Epoch 25/1000\n",
      "277/277 [==============================] - 6s 22ms/step - loss: 0.1601 - accuracy: 0.9487 - val_loss: 0.9848 - val_accuracy: 0.6632\n",
      "Epoch 26/1000\n",
      "277/277 [==============================] - 6s 22ms/step - loss: 0.1540 - accuracy: 0.9485 - val_loss: 0.9444 - val_accuracy: 0.6921\n",
      "Epoch 27/1000\n",
      "277/277 [==============================] - 6s 22ms/step - loss: 0.1454 - accuracy: 0.9535 - val_loss: 0.7598 - val_accuracy: 0.7263\n",
      "Epoch 28/1000\n",
      "276/277 [============================>.] - ETA: 0s - loss: 0.1391 - accuracy: 0.9536"
     ]
    },
    {
     "name": "stderr",
     "output_type": "stream",
     "text": [
      "WARNING:absl:Found untraced functions such as _jit_compiled_convolution_op, _jit_compiled_convolution_op, gru_cell_layer_call_fn, gru_cell_layer_call_and_return_conditional_losses while saving (showing 4 of 4). These functions will not be directly callable after loading.\n"
     ]
    },
    {
     "name": "stdout",
     "output_type": "stream",
     "text": [
      "INFO:tensorflow:Assets written to: /home/avatar/avatar_project/keyword_model_1D_CRNN/assets\n"
     ]
    },
    {
     "name": "stderr",
     "output_type": "stream",
     "text": [
      "INFO:tensorflow:Assets written to: /home/avatar/avatar_project/keyword_model_1D_CRNN/assets\n"
     ]
    },
    {
     "name": "stdout",
     "output_type": "stream",
     "text": [
      "277/277 [==============================] - 9s 32ms/step - loss: 0.1394 - accuracy: 0.9534 - val_loss: 0.6910 - val_accuracy: 0.7500\n",
      "Epoch 29/1000\n",
      "277/277 [==============================] - 6s 22ms/step - loss: 0.1388 - accuracy: 0.9544 - val_loss: 1.0433 - val_accuracy: 0.6789\n",
      "Epoch 30/1000\n",
      "277/277 [==============================] - ETA: 0s - loss: 0.1328 - accuracy: 0.9554"
     ]
    },
    {
     "name": "stderr",
     "output_type": "stream",
     "text": [
      "WARNING:absl:Found untraced functions such as _jit_compiled_convolution_op, _jit_compiled_convolution_op, gru_cell_layer_call_fn, gru_cell_layer_call_and_return_conditional_losses while saving (showing 4 of 4). These functions will not be directly callable after loading.\n"
     ]
    },
    {
     "name": "stdout",
     "output_type": "stream",
     "text": [
      "INFO:tensorflow:Assets written to: /home/avatar/avatar_project/keyword_model_1D_CRNN/assets\n"
     ]
    },
    {
     "name": "stderr",
     "output_type": "stream",
     "text": [
      "INFO:tensorflow:Assets written to: /home/avatar/avatar_project/keyword_model_1D_CRNN/assets\n"
     ]
    },
    {
     "name": "stdout",
     "output_type": "stream",
     "text": [
      "277/277 [==============================] - 8s 31ms/step - loss: 0.1328 - accuracy: 0.9554 - val_loss: 0.6175 - val_accuracy: 0.7632\n",
      "Epoch 31/1000\n",
      "277/277 [==============================] - 6s 22ms/step - loss: 0.1315 - accuracy: 0.9544 - val_loss: 0.9181 - val_accuracy: 0.7026\n",
      "Epoch 32/1000\n",
      "277/277 [==============================] - 6s 23ms/step - loss: 0.1233 - accuracy: 0.9565 - val_loss: 0.9158 - val_accuracy: 0.7395\n",
      "Epoch 33/1000\n",
      "277/277 [==============================] - 6s 22ms/step - loss: 0.1172 - accuracy: 0.9576 - val_loss: 0.7828 - val_accuracy: 0.7316\n",
      "Epoch 34/1000\n",
      "277/277 [==============================] - 6s 23ms/step - loss: 0.1120 - accuracy: 0.9606 - val_loss: 0.8052 - val_accuracy: 0.7289\n",
      "Epoch 35/1000\n",
      "277/277 [==============================] - 6s 23ms/step - loss: 0.1136 - accuracy: 0.9582 - val_loss: 0.7952 - val_accuracy: 0.7526\n",
      "Epoch 36/1000\n",
      "277/277 [==============================] - 6s 23ms/step - loss: 0.1010 - accuracy: 0.9630 - val_loss: 0.8468 - val_accuracy: 0.7474\n",
      "Epoch 37/1000\n",
      "277/277 [==============================] - ETA: 0s - loss: 0.1034 - accuracy: 0.9636"
     ]
    },
    {
     "name": "stderr",
     "output_type": "stream",
     "text": [
      "WARNING:absl:Found untraced functions such as _jit_compiled_convolution_op, _jit_compiled_convolution_op, gru_cell_layer_call_fn, gru_cell_layer_call_and_return_conditional_losses while saving (showing 4 of 4). These functions will not be directly callable after loading.\n"
     ]
    },
    {
     "name": "stdout",
     "output_type": "stream",
     "text": [
      "INFO:tensorflow:Assets written to: /home/avatar/avatar_project/keyword_model_1D_CRNN/assets\n"
     ]
    },
    {
     "name": "stderr",
     "output_type": "stream",
     "text": [
      "INFO:tensorflow:Assets written to: /home/avatar/avatar_project/keyword_model_1D_CRNN/assets\n"
     ]
    },
    {
     "name": "stdout",
     "output_type": "stream",
     "text": [
      "277/277 [==============================] - 9s 32ms/step - loss: 0.1034 - accuracy: 0.9636 - val_loss: 0.7852 - val_accuracy: 0.7842\n",
      "Epoch 38/1000\n",
      "277/277 [==============================] - 6s 22ms/step - loss: 0.1023 - accuracy: 0.9639 - val_loss: 0.8498 - val_accuracy: 0.7368\n",
      "Epoch 39/1000\n",
      "277/277 [==============================] - 6s 22ms/step - loss: 0.1019 - accuracy: 0.9615 - val_loss: 1.0204 - val_accuracy: 0.7158\n",
      "Epoch 40/1000\n",
      "277/277 [==============================] - 6s 22ms/step - loss: 0.1051 - accuracy: 0.9595 - val_loss: 1.0785 - val_accuracy: 0.7395\n",
      "Epoch 41/1000\n",
      "277/277 [==============================] - 6s 23ms/step - loss: 0.1014 - accuracy: 0.9622 - val_loss: 0.7505 - val_accuracy: 0.7737\n",
      "Epoch 42/1000\n",
      "277/277 [==============================] - 6s 23ms/step - loss: 0.0906 - accuracy: 0.9664 - val_loss: 0.6910 - val_accuracy: 0.7316\n",
      "Epoch 43/1000\n",
      "277/277 [==============================] - 6s 23ms/step - loss: 0.0898 - accuracy: 0.9665 - val_loss: 0.7580 - val_accuracy: 0.7737\n",
      "Epoch 44/1000\n",
      "277/277 [==============================] - 6s 23ms/step - loss: 0.0830 - accuracy: 0.9683 - val_loss: 0.8076 - val_accuracy: 0.7526\n",
      "Epoch 45/1000\n",
      "277/277 [==============================] - ETA: 0s - loss: 0.0883 - accuracy: 0.9680"
     ]
    },
    {
     "name": "stderr",
     "output_type": "stream",
     "text": [
      "WARNING:absl:Found untraced functions such as _jit_compiled_convolution_op, _jit_compiled_convolution_op, gru_cell_layer_call_fn, gru_cell_layer_call_and_return_conditional_losses while saving (showing 4 of 4). These functions will not be directly callable after loading.\n"
     ]
    },
    {
     "name": "stdout",
     "output_type": "stream",
     "text": [
      "INFO:tensorflow:Assets written to: /home/avatar/avatar_project/keyword_model_1D_CRNN/assets\n"
     ]
    },
    {
     "name": "stderr",
     "output_type": "stream",
     "text": [
      "INFO:tensorflow:Assets written to: /home/avatar/avatar_project/keyword_model_1D_CRNN/assets\n"
     ]
    },
    {
     "name": "stdout",
     "output_type": "stream",
     "text": [
      "277/277 [==============================] - 8s 30ms/step - loss: 0.0883 - accuracy: 0.9680 - val_loss: 0.6484 - val_accuracy: 0.7974\n",
      "Epoch 46/1000\n",
      "277/277 [==============================] - 6s 22ms/step - loss: 0.0802 - accuracy: 0.9684 - val_loss: 1.0900 - val_accuracy: 0.6842\n",
      "Epoch 47/1000\n",
      "277/277 [==============================] - 6s 22ms/step - loss: 0.0816 - accuracy: 0.9698 - val_loss: 0.9126 - val_accuracy: 0.7553\n",
      "Epoch 48/1000\n",
      "277/277 [==============================] - 6s 22ms/step - loss: 0.0839 - accuracy: 0.9687 - val_loss: 0.8793 - val_accuracy: 0.7684\n",
      "Epoch 49/1000\n",
      "277/277 [==============================] - 6s 22ms/step - loss: 0.0903 - accuracy: 0.9661 - val_loss: 0.7309 - val_accuracy: 0.7579\n",
      "Epoch 50/1000\n",
      "277/277 [==============================] - 6s 22ms/step - loss: 0.0729 - accuracy: 0.9733 - val_loss: 0.8201 - val_accuracy: 0.7684\n",
      "Epoch 51/1000\n",
      "277/277 [==============================] - 6s 21ms/step - loss: 0.0734 - accuracy: 0.9726 - val_loss: 0.7476 - val_accuracy: 0.7816\n",
      "Epoch 52/1000\n",
      "277/277 [==============================] - ETA: 0s - loss: 0.0819 - accuracy: 0.9681"
     ]
    },
    {
     "name": "stderr",
     "output_type": "stream",
     "text": [
      "WARNING:absl:Found untraced functions such as _jit_compiled_convolution_op, _jit_compiled_convolution_op, gru_cell_layer_call_fn, gru_cell_layer_call_and_return_conditional_losses while saving (showing 4 of 4). These functions will not be directly callable after loading.\n"
     ]
    },
    {
     "name": "stdout",
     "output_type": "stream",
     "text": [
      "INFO:tensorflow:Assets written to: /home/avatar/avatar_project/keyword_model_1D_CRNN/assets\n"
     ]
    },
    {
     "name": "stderr",
     "output_type": "stream",
     "text": [
      "INFO:tensorflow:Assets written to: /home/avatar/avatar_project/keyword_model_1D_CRNN/assets\n"
     ]
    },
    {
     "name": "stdout",
     "output_type": "stream",
     "text": [
      "277/277 [==============================] - 9s 32ms/step - loss: 0.0819 - accuracy: 0.9681 - val_loss: 0.5513 - val_accuracy: 0.8289\n",
      "Epoch 53/1000\n",
      "277/277 [==============================] - 6s 22ms/step - loss: 0.0827 - accuracy: 0.9681 - val_loss: 0.7933 - val_accuracy: 0.7711\n",
      "Epoch 54/1000\n",
      "277/277 [==============================] - 6s 22ms/step - loss: 0.0693 - accuracy: 0.9718 - val_loss: 0.7408 - val_accuracy: 0.8000\n",
      "Epoch 55/1000\n",
      "277/277 [==============================] - 6s 22ms/step - loss: 0.0711 - accuracy: 0.9727 - val_loss: 0.8816 - val_accuracy: 0.7868\n",
      "Epoch 56/1000\n",
      "277/277 [==============================] - 6s 23ms/step - loss: 0.0662 - accuracy: 0.9736 - val_loss: 0.6467 - val_accuracy: 0.8158\n",
      "Epoch 57/1000\n",
      "277/277 [==============================] - 6s 22ms/step - loss: 0.0706 - accuracy: 0.9729 - val_loss: 0.8819 - val_accuracy: 0.7895\n",
      "Epoch 58/1000\n",
      "277/277 [==============================] - 6s 21ms/step - loss: 0.0663 - accuracy: 0.9757 - val_loss: 0.7248 - val_accuracy: 0.8211\n",
      "Epoch 59/1000\n",
      "277/277 [==============================] - 6s 21ms/step - loss: 0.0651 - accuracy: 0.9743 - val_loss: 0.6444 - val_accuracy: 0.8000\n",
      "Epoch 60/1000\n",
      "277/277 [==============================] - 6s 22ms/step - loss: 0.0652 - accuracy: 0.9740 - val_loss: 0.7532 - val_accuracy: 0.7658\n",
      "Epoch 61/1000\n",
      "277/277 [==============================] - 6s 22ms/step - loss: 0.0617 - accuracy: 0.9744 - val_loss: 0.7461 - val_accuracy: 0.8026\n",
      "Epoch 62/1000\n",
      "277/277 [==============================] - ETA: 0s - loss: 0.0577 - accuracy: 0.9775"
     ]
    },
    {
     "name": "stderr",
     "output_type": "stream",
     "text": [
      "WARNING:absl:Found untraced functions such as _jit_compiled_convolution_op, _jit_compiled_convolution_op, gru_cell_layer_call_fn, gru_cell_layer_call_and_return_conditional_losses while saving (showing 4 of 4). These functions will not be directly callable after loading.\n"
     ]
    },
    {
     "name": "stdout",
     "output_type": "stream",
     "text": [
      "INFO:tensorflow:Assets written to: /home/avatar/avatar_project/keyword_model_1D_CRNN/assets\n"
     ]
    },
    {
     "name": "stderr",
     "output_type": "stream",
     "text": [
      "INFO:tensorflow:Assets written to: /home/avatar/avatar_project/keyword_model_1D_CRNN/assets\n"
     ]
    },
    {
     "name": "stdout",
     "output_type": "stream",
     "text": [
      "277/277 [==============================] - 9s 31ms/step - loss: 0.0577 - accuracy: 0.9775 - val_loss: 0.6567 - val_accuracy: 0.8342\n",
      "Epoch 63/1000\n",
      "277/277 [==============================] - 6s 22ms/step - loss: 0.0689 - accuracy: 0.9738 - val_loss: 0.7214 - val_accuracy: 0.7816\n",
      "Epoch 64/1000\n",
      "277/277 [==============================] - 6s 22ms/step - loss: 0.0625 - accuracy: 0.9760 - val_loss: 0.9227 - val_accuracy: 0.8079\n",
      "Epoch 65/1000\n",
      "277/277 [==============================] - 6s 21ms/step - loss: 0.0607 - accuracy: 0.9761 - val_loss: 0.7242 - val_accuracy: 0.8000\n",
      "Epoch 66/1000\n",
      "277/277 [==============================] - 6s 22ms/step - loss: 0.0556 - accuracy: 0.9783 - val_loss: 0.8566 - val_accuracy: 0.8184\n",
      "Epoch 67/1000\n",
      "277/277 [==============================] - 6s 23ms/step - loss: 0.0518 - accuracy: 0.9800 - val_loss: 0.8924 - val_accuracy: 0.7921\n",
      "Epoch 68/1000\n",
      "277/277 [==============================] - 6s 23ms/step - loss: 0.0504 - accuracy: 0.9812 - val_loss: 0.7700 - val_accuracy: 0.8289\n",
      "Epoch 69/1000\n",
      "277/277 [==============================] - 6s 22ms/step - loss: 0.0670 - accuracy: 0.9739 - val_loss: 0.9358 - val_accuracy: 0.7763\n",
      "Epoch 70/1000\n",
      "277/277 [==============================] - 6s 22ms/step - loss: 0.0506 - accuracy: 0.9802 - val_loss: 0.8344 - val_accuracy: 0.8000\n",
      "Epoch 71/1000\n",
      "277/277 [==============================] - 6s 22ms/step - loss: 0.0488 - accuracy: 0.9804 - val_loss: 0.7389 - val_accuracy: 0.8237\n",
      "Epoch 72/1000\n",
      "277/277 [==============================] - 6s 22ms/step - loss: 0.0562 - accuracy: 0.9785 - val_loss: 1.1127 - val_accuracy: 0.7974\n",
      "Epoch 73/1000\n",
      "277/277 [==============================] - 6s 23ms/step - loss: 0.0505 - accuracy: 0.9811 - val_loss: 0.7238 - val_accuracy: 0.8053\n",
      "Epoch 74/1000\n",
      "277/277 [==============================] - 6s 22ms/step - loss: 0.0538 - accuracy: 0.9782 - val_loss: 1.0682 - val_accuracy: 0.7711\n",
      "Epoch 75/1000\n",
      "277/277 [==============================] - 6s 22ms/step - loss: 0.0507 - accuracy: 0.9793 - val_loss: 0.7372 - val_accuracy: 0.7921\n",
      "Epoch 76/1000\n",
      "277/277 [==============================] - 6s 23ms/step - loss: 0.0502 - accuracy: 0.9794 - val_loss: 0.9554 - val_accuracy: 0.7921\n",
      "Epoch 77/1000\n",
      "277/277 [==============================] - 6s 22ms/step - loss: 0.0441 - accuracy: 0.9822 - val_loss: 0.8428 - val_accuracy: 0.7895\n",
      "Epoch 78/1000\n",
      "277/277 [==============================] - 6s 21ms/step - loss: 0.0463 - accuracy: 0.9819 - val_loss: 1.2346 - val_accuracy: 0.7868\n",
      "Epoch 79/1000\n",
      "277/277 [==============================] - 6s 22ms/step - loss: 0.0421 - accuracy: 0.9844 - val_loss: 0.8997 - val_accuracy: 0.7789\n",
      "Epoch 80/1000\n",
      "277/277 [==============================] - 6s 22ms/step - loss: 0.0461 - accuracy: 0.9817 - val_loss: 0.9652 - val_accuracy: 0.7921\n",
      "Epoch 81/1000\n",
      "277/277 [==============================] - 6s 22ms/step - loss: 0.0433 - accuracy: 0.9833 - val_loss: 0.9597 - val_accuracy: 0.7921\n",
      "Epoch 82/1000\n",
      "277/277 [==============================] - 6s 22ms/step - loss: 0.0423 - accuracy: 0.9828 - val_loss: 0.8757 - val_accuracy: 0.8000\n",
      "Epoch 83/1000\n",
      "277/277 [==============================] - 6s 22ms/step - loss: 0.0398 - accuracy: 0.9839 - val_loss: 0.9312 - val_accuracy: 0.8237\n",
      "Epoch 84/1000\n",
      "277/277 [==============================] - 6s 22ms/step - loss: 0.0401 - accuracy: 0.9829 - val_loss: 0.9216 - val_accuracy: 0.7921\n",
      "Epoch 85/1000\n",
      "277/277 [==============================] - 6s 22ms/step - loss: 0.0469 - accuracy: 0.9824 - val_loss: 0.8575 - val_accuracy: 0.8105\n",
      "Epoch 86/1000\n",
      "277/277 [==============================] - 6s 22ms/step - loss: 0.0401 - accuracy: 0.9844 - val_loss: 0.8747 - val_accuracy: 0.8263\n",
      "Epoch 87/1000\n",
      "275/277 [============================>.] - ETA: 0s - loss: 0.0420 - accuracy: 0.9839"
     ]
    },
    {
     "name": "stderr",
     "output_type": "stream",
     "text": [
      "WARNING:absl:Found untraced functions such as _jit_compiled_convolution_op, _jit_compiled_convolution_op, gru_cell_layer_call_fn, gru_cell_layer_call_and_return_conditional_losses while saving (showing 4 of 4). These functions will not be directly callable after loading.\n"
     ]
    },
    {
     "name": "stdout",
     "output_type": "stream",
     "text": [
      "INFO:tensorflow:Assets written to: /home/avatar/avatar_project/keyword_model_1D_CRNN/assets\n"
     ]
    },
    {
     "name": "stderr",
     "output_type": "stream",
     "text": [
      "INFO:tensorflow:Assets written to: /home/avatar/avatar_project/keyword_model_1D_CRNN/assets\n"
     ]
    },
    {
     "name": "stdout",
     "output_type": "stream",
     "text": [
      "277/277 [==============================] - 9s 32ms/step - loss: 0.0419 - accuracy: 0.9839 - val_loss: 0.6276 - val_accuracy: 0.8395\n",
      "Epoch 88/1000\n",
      "277/277 [==============================] - 6s 22ms/step - loss: 0.0401 - accuracy: 0.9845 - val_loss: 0.9331 - val_accuracy: 0.8026\n",
      "Epoch 89/1000\n",
      "277/277 [==============================] - 6s 22ms/step - loss: 0.0369 - accuracy: 0.9857 - val_loss: 0.8483 - val_accuracy: 0.8079\n",
      "Epoch 90/1000\n",
      "277/277 [==============================] - 6s 23ms/step - loss: 0.0429 - accuracy: 0.9841 - val_loss: 0.8111 - val_accuracy: 0.8211\n",
      "Epoch 91/1000\n",
      "277/277 [==============================] - 6s 22ms/step - loss: 0.0331 - accuracy: 0.9880 - val_loss: 0.8303 - val_accuracy: 0.8342\n",
      "Epoch 92/1000\n",
      "277/277 [==============================] - ETA: 0s - loss: 0.0357 - accuracy: 0.9876"
     ]
    },
    {
     "name": "stderr",
     "output_type": "stream",
     "text": [
      "WARNING:absl:Found untraced functions such as _jit_compiled_convolution_op, _jit_compiled_convolution_op, gru_cell_layer_call_fn, gru_cell_layer_call_and_return_conditional_losses while saving (showing 4 of 4). These functions will not be directly callable after loading.\n"
     ]
    },
    {
     "name": "stdout",
     "output_type": "stream",
     "text": [
      "INFO:tensorflow:Assets written to: /home/avatar/avatar_project/keyword_model_1D_CRNN/assets\n"
     ]
    },
    {
     "name": "stderr",
     "output_type": "stream",
     "text": [
      "INFO:tensorflow:Assets written to: /home/avatar/avatar_project/keyword_model_1D_CRNN/assets\n"
     ]
    },
    {
     "name": "stdout",
     "output_type": "stream",
     "text": [
      "277/277 [==============================] - 9s 31ms/step - loss: 0.0357 - accuracy: 0.9876 - val_loss: 0.6713 - val_accuracy: 0.8474\n",
      "Epoch 93/1000\n",
      "277/277 [==============================] - 6s 22ms/step - loss: 0.0373 - accuracy: 0.9846 - val_loss: 0.8193 - val_accuracy: 0.8316\n",
      "Epoch 94/1000\n",
      "277/277 [==============================] - 6s 22ms/step - loss: 0.0313 - accuracy: 0.9881 - val_loss: 0.7425 - val_accuracy: 0.8316\n",
      "Epoch 95/1000\n",
      "277/277 [==============================] - 6s 22ms/step - loss: 0.0388 - accuracy: 0.9853 - val_loss: 1.0056 - val_accuracy: 0.7658\n",
      "Epoch 96/1000\n",
      "277/277 [==============================] - 6s 22ms/step - loss: 0.0344 - accuracy: 0.9873 - val_loss: 0.8728 - val_accuracy: 0.8211\n",
      "Epoch 97/1000\n",
      "277/277 [==============================] - 6s 22ms/step - loss: 0.0379 - accuracy: 0.9859 - val_loss: 0.7906 - val_accuracy: 0.8000\n",
      "Epoch 98/1000\n",
      "277/277 [==============================] - 6s 22ms/step - loss: 0.0311 - accuracy: 0.9870 - val_loss: 0.7083 - val_accuracy: 0.8342\n",
      "Epoch 99/1000\n",
      "277/277 [==============================] - 6s 22ms/step - loss: 0.0404 - accuracy: 0.9829 - val_loss: 1.1542 - val_accuracy: 0.7684\n",
      "Epoch 100/1000\n",
      "277/277 [==============================] - 6s 22ms/step - loss: 0.0350 - accuracy: 0.9869 - val_loss: 1.0091 - val_accuracy: 0.8211\n",
      "Epoch 101/1000\n",
      "277/277 [==============================] - 6s 22ms/step - loss: 0.0353 - accuracy: 0.9872 - val_loss: 0.7558 - val_accuracy: 0.8395\n",
      "Epoch 102/1000\n",
      "277/277 [==============================] - ETA: 0s - loss: 0.0311 - accuracy: 0.9870"
     ]
    },
    {
     "name": "stderr",
     "output_type": "stream",
     "text": [
      "WARNING:absl:Found untraced functions such as _jit_compiled_convolution_op, _jit_compiled_convolution_op, gru_cell_layer_call_fn, gru_cell_layer_call_and_return_conditional_losses while saving (showing 4 of 4). These functions will not be directly callable after loading.\n"
     ]
    },
    {
     "name": "stdout",
     "output_type": "stream",
     "text": [
      "INFO:tensorflow:Assets written to: /home/avatar/avatar_project/keyword_model_1D_CRNN/assets\n"
     ]
    },
    {
     "name": "stderr",
     "output_type": "stream",
     "text": [
      "INFO:tensorflow:Assets written to: /home/avatar/avatar_project/keyword_model_1D_CRNN/assets\n"
     ]
    },
    {
     "name": "stdout",
     "output_type": "stream",
     "text": [
      "277/277 [==============================] - 8s 30ms/step - loss: 0.0311 - accuracy: 0.9870 - val_loss: 0.6970 - val_accuracy: 0.8500\n",
      "Epoch 103/1000\n",
      "277/277 [==============================] - 6s 22ms/step - loss: 0.0407 - accuracy: 0.9843 - val_loss: 1.1566 - val_accuracy: 0.8132\n",
      "Epoch 104/1000\n",
      "277/277 [==============================] - 6s 22ms/step - loss: 0.0318 - accuracy: 0.9876 - val_loss: 0.5994 - val_accuracy: 0.8421\n",
      "Epoch 105/1000\n",
      "277/277 [==============================] - 6s 22ms/step - loss: 0.0330 - accuracy: 0.9873 - val_loss: 0.9534 - val_accuracy: 0.8000\n",
      "Epoch 106/1000\n",
      "277/277 [==============================] - 6s 22ms/step - loss: 0.0271 - accuracy: 0.9893 - val_loss: 0.8897 - val_accuracy: 0.8105\n",
      "Epoch 107/1000\n",
      "277/277 [==============================] - 6s 22ms/step - loss: 0.0297 - accuracy: 0.9896 - val_loss: 1.0055 - val_accuracy: 0.8079\n",
      "Epoch 108/1000\n",
      "277/277 [==============================] - 6s 22ms/step - loss: 0.0255 - accuracy: 0.9898 - val_loss: 0.8567 - val_accuracy: 0.8316\n",
      "Epoch 109/1000\n",
      "277/277 [==============================] - 6s 22ms/step - loss: 0.0279 - accuracy: 0.9902 - val_loss: 1.1544 - val_accuracy: 0.8184\n",
      "Epoch 110/1000\n",
      "277/277 [==============================] - 6s 22ms/step - loss: 0.0319 - accuracy: 0.9888 - val_loss: 0.8046 - val_accuracy: 0.8263\n",
      "Epoch 111/1000\n",
      "277/277 [==============================] - 6s 22ms/step - loss: 0.0291 - accuracy: 0.9886 - val_loss: 0.9573 - val_accuracy: 0.7947\n",
      "Epoch 112/1000\n",
      "277/277 [==============================] - 6s 22ms/step - loss: 0.0328 - accuracy: 0.9877 - val_loss: 1.1164 - val_accuracy: 0.8000\n",
      "Epoch 113/1000\n",
      "277/277 [==============================] - 6s 23ms/step - loss: 0.0296 - accuracy: 0.9890 - val_loss: 1.0211 - val_accuracy: 0.8158\n",
      "Epoch 114/1000\n",
      "277/277 [==============================] - 6s 22ms/step - loss: 0.0258 - accuracy: 0.9898 - val_loss: 0.6612 - val_accuracy: 0.8421\n",
      "Epoch 115/1000\n",
      "277/277 [==============================] - 6s 22ms/step - loss: 0.0249 - accuracy: 0.9912 - val_loss: 1.2202 - val_accuracy: 0.7737\n",
      "Epoch 116/1000\n",
      "277/277 [==============================] - 6s 23ms/step - loss: 0.0226 - accuracy: 0.9910 - val_loss: 1.0836 - val_accuracy: 0.7842\n",
      "Epoch 117/1000\n",
      "277/277 [==============================] - 6s 22ms/step - loss: 0.0338 - accuracy: 0.9873 - val_loss: 1.4310 - val_accuracy: 0.7000\n",
      "Epoch 118/1000\n",
      "277/277 [==============================] - 6s 22ms/step - loss: 0.0312 - accuracy: 0.9893 - val_loss: 0.9638 - val_accuracy: 0.8368\n",
      "Epoch 119/1000\n",
      "275/277 [============================>.] - ETA: 0s - loss: 0.0247 - accuracy: 0.9903"
     ]
    },
    {
     "name": "stderr",
     "output_type": "stream",
     "text": [
      "WARNING:absl:Found untraced functions such as _jit_compiled_convolution_op, _jit_compiled_convolution_op, gru_cell_layer_call_fn, gru_cell_layer_call_and_return_conditional_losses while saving (showing 4 of 4). These functions will not be directly callable after loading.\n"
     ]
    },
    {
     "name": "stdout",
     "output_type": "stream",
     "text": [
      "INFO:tensorflow:Assets written to: /home/avatar/avatar_project/keyword_model_1D_CRNN/assets\n"
     ]
    },
    {
     "name": "stderr",
     "output_type": "stream",
     "text": [
      "INFO:tensorflow:Assets written to: /home/avatar/avatar_project/keyword_model_1D_CRNN/assets\n"
     ]
    },
    {
     "name": "stdout",
     "output_type": "stream",
     "text": [
      "277/277 [==============================] - 9s 32ms/step - loss: 0.0246 - accuracy: 0.9904 - val_loss: 0.6623 - val_accuracy: 0.8632\n",
      "Epoch 120/1000\n",
      "277/277 [==============================] - 6s 21ms/step - loss: 0.0235 - accuracy: 0.9911 - val_loss: 0.9251 - val_accuracy: 0.8474\n",
      "Epoch 121/1000\n",
      "277/277 [==============================] - 6s 22ms/step - loss: 0.0315 - accuracy: 0.9879 - val_loss: 1.0720 - val_accuracy: 0.8000\n",
      "Epoch 122/1000\n",
      "277/277 [==============================] - 6s 23ms/step - loss: 0.0209 - accuracy: 0.9924 - val_loss: 0.7990 - val_accuracy: 0.8579\n",
      "Epoch 123/1000\n",
      "277/277 [==============================] - 6s 23ms/step - loss: 0.0253 - accuracy: 0.9908 - val_loss: 0.9617 - val_accuracy: 0.8105\n",
      "Epoch 124/1000\n",
      "277/277 [==============================] - 6s 22ms/step - loss: 0.0185 - accuracy: 0.9924 - val_loss: 1.0332 - val_accuracy: 0.8395\n",
      "Epoch 125/1000\n",
      "277/277 [==============================] - 6s 22ms/step - loss: 0.0242 - accuracy: 0.9906 - val_loss: 1.0462 - val_accuracy: 0.8289\n",
      "Epoch 126/1000\n",
      "277/277 [==============================] - ETA: 0s - loss: 0.0238 - accuracy: 0.9911"
     ]
    },
    {
     "name": "stderr",
     "output_type": "stream",
     "text": [
      "WARNING:absl:Found untraced functions such as _jit_compiled_convolution_op, _jit_compiled_convolution_op, gru_cell_layer_call_fn, gru_cell_layer_call_and_return_conditional_losses while saving (showing 4 of 4). These functions will not be directly callable after loading.\n"
     ]
    },
    {
     "name": "stdout",
     "output_type": "stream",
     "text": [
      "INFO:tensorflow:Assets written to: /home/avatar/avatar_project/keyword_model_1D_CRNN/assets\n"
     ]
    },
    {
     "name": "stderr",
     "output_type": "stream",
     "text": [
      "INFO:tensorflow:Assets written to: /home/avatar/avatar_project/keyword_model_1D_CRNN/assets\n"
     ]
    },
    {
     "name": "stdout",
     "output_type": "stream",
     "text": [
      "277/277 [==============================] - 9s 31ms/step - loss: 0.0238 - accuracy: 0.9911 - val_loss: 0.7845 - val_accuracy: 0.8711\n",
      "Epoch 127/1000\n",
      "277/277 [==============================] - 6s 22ms/step - loss: 0.0241 - accuracy: 0.9911 - val_loss: 0.9088 - val_accuracy: 0.8053\n",
      "Epoch 128/1000\n",
      " 49/277 [====>.........................] - ETA: 5s - loss: 0.0274 - accuracy: 0.9885"
     ]
    }
   ],
   "source": [
    "history = model.fit(X_train, y_train, epochs=1000, batch_size=32, callbacks=my_callbacks, \n",
    "                    validation_data=(X_val, y_val))"
   ]
  },
  {
   "cell_type": "code",
   "execution_count": null,
   "id": "556b618d",
   "metadata": {},
   "outputs": [],
   "source": [
    "latest = tf.train.latest_checkpoint(checkpoint_dir)\n",
    "model = tf.keras.Model()\n",
    "#model.load_model(latest)\n",
    "model=tf.keras.models.load_model('/home/avatar/avatar_project/keyword_model_1D_CRNN')\n",
    "\n",
    "model.evaluate(X_val, y_val, batch_size=32)"
   ]
  },
  {
   "cell_type": "code",
   "execution_count": null,
   "id": "2ff2987b",
   "metadata": {},
   "outputs": [],
   "source": [
    "\n",
    "\n",
    "\n",
    "Test_path_pos = \"/home/avatar/avatar_project/test_data/positives/test_reetta_positives\"\n",
    "Test_path_neg = \"/home/avatar/avatar_project/test_data/negatives/test_reetta_negatives\"\n",
    "test_pos = []\n",
    "test_neg = []\n",
    "\n",
    "for keyword in os.listdir(Test_path_pos):\n",
    "    audio, fs = librosa.load(os.path.join(Test_path_pos, keyword), sr=16000)\n",
    "    \n",
    "    mel_spec = librosa.feature.melspectrogram(y=audio, sr=sample_rate, n_fft=512, hop_length=160, n_mels=48, fmax=8000)\n",
    "    mel_spec_db = librosa.power_to_db(mel_spec, ref=np.max).T\n",
    "    mel_spec_db_norm = (mel_spec_db - np.min(mel_spec_db)) / (np.max(mel_spec_db) - np.min(mel_spec_db))\n",
    "    test_pos.append(mel_spec_db_norm) \n",
    "\n",
    "\n",
    "for noise in os.listdir(Test_path_neg):\n",
    "    audio, fs = librosa.load(os.path.join(Test_path_neg, noise), sr=16000)\n",
    "    \n",
    "    mel_spec = librosa.feature.melspectrogram(y=audio, sr=sample_rate, n_fft=512, hop_length=160, n_mels=48, fmax=8000)\n",
    "    mel_spec_db = librosa.power_to_db(mel_spec, ref=np.max).T\n",
    "    mel_spec_db_norm = (mel_spec_db - np.min(mel_spec_db)) / (np.max(mel_spec_db) - np.min(mel_spec_db))\n",
    "    test_neg.append(mel_spec_db_norm) \n",
    "   "
   ]
  },
  {
   "cell_type": "code",
   "execution_count": null,
   "id": "21cab00c",
   "metadata": {},
   "outputs": [],
   "source": [
    "print(np.shape(test_pos))\n",
    "print(np.shape(test_neg))\n",
    "test_pos = np.squeeze(test_pos)\n",
    "test_neg = np.squeeze(test_neg)\n",
    "test_pos_labels = np.ones(test_pos.shape[0])\n",
    "test_neg_labels = 0*np.ones(test_neg.shape[0])\n",
    "\n",
    "X_test = np.concatenate((test_pos, test_neg), axis=0)\n",
    "y_test = np.concatenate((test_pos_labels, test_neg_labels), axis=0)\n",
    "y_test = tf.keras.utils.to_categorical(y_test, 2)"
   ]
  },
  {
   "cell_type": "code",
   "execution_count": null,
   "id": "e7ae632c",
   "metadata": {},
   "outputs": [],
   "source": [
    "\n",
    "model.evaluate(X_test, y_test, batch_size=32)\n",
    "hypothesis= model.predict(X_test, batch_size=32)\n",
    "y_pred = tf.keras.utils.to_categorical(hypothesis, 2)\n",
    "from sklearn.metrics import confusion_matrix\n",
    "y_true = y_test[:, 1]\n",
    "\n",
    "y_pred = np.round(hypothesis[:, 1])\n",
    "CM = confusion_matrix(y_true, y_pred)\n",
    "TN = CM[0][0]\n",
    "FN = CM[1][0]\n",
    "TP = CM[1][1]\n",
    "FP = CM[0][1]\n",
    "Precision = TP/(TP+FP)\n",
    "Recall = TP/(TP+FN)\n",
    "F1_score = 2*((Precision*Recall)/(Precision+Recall))\n",
    "print(f\"true negatives: {TN}, false negatives: {FN}, true positives {TP}, false positives {FP}\")\n",
    "print(f\" Precision: {Precision}\")\n",
    "print(f\" Recall: {Recall}\")\n",
    "print(f\" F1 score: {F1_score}\")"
   ]
  },
  {
   "cell_type": "code",
   "execution_count": null,
   "id": "7f001c9d",
   "metadata": {},
   "outputs": [],
   "source": [
    "Test_path_pos = \"/home/avatar/avatar_project/test_data/positives/test_topias_positives\"\n",
    "Test_path_neg = \"/home/avatar/avatar_project/test_data/negatives/test_topias_negatives\"\n",
    "test_pos = []\n",
    "test_neg = []\n",
    "for keyword in os.listdir(Test_path_pos):\n",
    "    audio, fs = librosa.load(os.path.join(Test_path_pos, keyword), sr=16000)\n",
    "    \n",
    "    mel_spec = librosa.feature.melspectrogram(y=audio, sr=sample_rate, n_fft=512, hop_length=160, n_mels=48, fmax=8000)\n",
    "    mel_spec_db = librosa.power_to_db(mel_spec, ref=np.max).T\n",
    "    mel_spec_db_norm = (mel_spec_db - np.min(mel_spec_db)) / (np.max(mel_spec_db) - np.min(mel_spec_db))\n",
    "    test_pos.append(mel_spec_db_norm) \n",
    "\n",
    "for noise in os.listdir(Test_path_neg):\n",
    "    audio, fs = librosa.load(os.path.join(Test_path_neg, noise), sr=16000)\n",
    "    \n",
    "    mel_spec = librosa.feature.melspectrogram(y=audio, sr=sample_rate, n_fft=512, hop_length=160, n_mels=48, fmax=8000)\n",
    "    mel_spec_db = librosa.power_to_db(mel_spec, ref=np.max).T\n",
    "    mel_spec_db_norm = (mel_spec_db - np.min(mel_spec_db)) / (np.max(mel_spec_db) - np.min(mel_spec_db))\n",
    "    test_neg.append(mel_spec_db_norm) "
   ]
  },
  {
   "cell_type": "code",
   "execution_count": null,
   "id": "aa7be08f",
   "metadata": {},
   "outputs": [],
   "source": [
    "print(np.shape(test_pos))\n",
    "print(np.shape(test_neg))\n",
    "test_pos = np.squeeze(test_pos)\n",
    "test_neg = np.squeeze(test_neg)\n",
    "test_pos_labels = np.ones(test_pos.shape[0])\n",
    "test_neg_labels = 0*np.ones(test_neg.shape[0])\n",
    "\n",
    "X_test = np.concatenate((test_pos, test_neg), axis=0)\n",
    "y_test = np.concatenate((test_pos_labels, test_neg_labels), axis=0)\n",
    "y_test = tf.keras.utils.to_categorical(y_test, 2)"
   ]
  },
  {
   "cell_type": "code",
   "execution_count": null,
   "id": "b063aaea",
   "metadata": {},
   "outputs": [],
   "source": [
    "model.evaluate(X_test, y_test, batch_size=32)\n",
    "hypothesis= model.predict(X_test, batch_size=32)\n",
    "y_pred = tf.keras.utils.to_categorical(hypothesis, 2)\n",
    "from sklearn.metrics import confusion_matrix\n",
    "y_true = y_test[:, 1]\n",
    "\n",
    "\n",
    "\n",
    "y_pred = np.round(hypothesis[:, 1])\n",
    "CM = confusion_matrix(y_true, y_pred)\n",
    "TN = CM[0][0]\n",
    "FN = CM[1][0]\n",
    "TP = CM[1][1]\n",
    "FP = CM[0][1]\n",
    "Precision = TP/(TP+FP)\n",
    "Recall = TP/(TP+FN)\n",
    "F1_score = 2*((Precision*Recall)/(Precision+Recall))\n",
    "print(f\"true negatives: {TN}, false negatives: {FN}, true positives {TP}, false positives {FP}\")\n",
    "print(f\" Precision: {Precision}\")\n",
    "print(f\" Recall: {Recall}\")\n",
    "print(f\" F1 score: {F1_score}\")"
   ]
  },
  {
   "cell_type": "code",
   "execution_count": null,
   "id": "3cb59ea9",
   "metadata": {},
   "outputs": [],
   "source": [
    "\n",
    "sample_rate = 16000\n",
    "seconds = 3\n",
    "case=0\n",
    "recording = sd.rec(int(seconds * fs), samplerate=sample_rate, channels=1)\n",
    "sd.wait()\n",
    "first_audio = np.squeeze(recording)\n",
    "#Checks if wake word has been detected in past 3 seconds\n",
    "long_audio=first_audio\n",
    "while True:\n",
    "    if case == 150:\n",
    "        break\n",
    "    case+= 1\n",
    "    print(\"Say Now: \")\n",
    "    recording = sd.rec(int(1 * fs), samplerate=fs, channels=1)\n",
    "    sd.wait()\n",
    "    \n",
    "    audio = np.squeeze(recording)\n",
    "    long_audio = np.delete(long_audio , [index for index in range(int(np.shape(audio)[0]))] )\n",
    "    long_audio = np.hstack((long_audio, audio))\n",
    "    mel_spec = librosa.feature.melspectrogram(y=long_audio, sr=sample_rate, n_fft=512, hop_length=160, n_mels=48, fmax=8000)\n",
    "    mel_spec_db = librosa.power_to_db(mel_spec, ref=np.max).T\n",
    "    mel_spec_db_norm = (mel_spec_db - np.min(mel_spec_db)) / (np.max(mel_spec_db) - np.min(mel_spec_db))\n",
    "\n",
    "    prediction = model.predict(np.expand_dims(mel_spec_db_norm, axis=0), batch_size=32)\n",
    "    print(prediction)\n",
    "    if prediction[:, 1] > 0.80:\n",
    "        print(f\"Wake Word Detected for ({case})\")\n",
    "        print(\"Confidence:\", prediction[:, 1])\n",
    "        #write(test_file + \"positive\" + str(case) + \".wav\", fs, long_audio)\n",
    "    \n",
    "    else:\n",
    "        print(f\"Wake Word NOT Detected\")\n",
    "        print(\"Confidence:\", prediction[:, 0])\n",
    "        #write(test_file + \"negative\" + str(case) + \".wav\", fs, long_audio)\n"
   ]
  }
 ],
 "metadata": {
  "kernelspec": {
   "display_name": "Python 3 (ipykernel)",
   "language": "python",
   "name": "python3"
  },
  "language_info": {
   "codemirror_mode": {
    "name": "ipython",
    "version": 3
   },
   "file_extension": ".py",
   "mimetype": "text/x-python",
   "name": "python",
   "nbconvert_exporter": "python",
   "pygments_lexer": "ipython3",
   "version": "3.8.13"
  }
 },
 "nbformat": 4,
 "nbformat_minor": 5
}
